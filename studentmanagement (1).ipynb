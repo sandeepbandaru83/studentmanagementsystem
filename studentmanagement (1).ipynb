{
 "cells": [
  {
   "cell_type": "code",
   "execution_count": 1,
   "id": "ab53c3bf-5c37-4bf7-bbdc-8ac617813eca",
   "metadata": {},
   "outputs": [
    {
     "name": "stdout",
     "output_type": "stream",
     "text": [
      "\n",
      "--- Student Management System ---\n",
      "1. Add Student\n",
      "2. View Students\n",
      "3. Update Student\n",
      "4. Delete Student\n",
      "5. Exit\n"
     ]
    },
    {
     "name": "stdin",
     "output_type": "stream",
     "text": [
      "Enter choice:  1\n",
      "Enter student ID:  501\n",
      "Enter student name:  sandeep\n",
      "Enter student age:  20\n",
      "Enter student grade:  8.5\n"
     ]
    },
    {
     "name": "stdout",
     "output_type": "stream",
     "text": [
      "Student added successfully.\n",
      "\n",
      "--- Student Management System ---\n",
      "1. Add Student\n",
      "2. View Students\n",
      "3. Update Student\n",
      "4. Delete Student\n",
      "5. Exit\n"
     ]
    },
    {
     "name": "stdin",
     "output_type": "stream",
     "text": [
      "Enter choice:  2\n"
     ]
    },
    {
     "name": "stdout",
     "output_type": "stream",
     "text": [
      "ID: 201 | Name: Sri | Age: 20 | Grade: 8.0\n",
      "ID: 3 | Name: sri | Age: 20 | Grade: 8.5\n",
      "ID: 501 | Name: sandeep | Age: 20 | Grade: 8.5\n",
      "\n",
      "--- Student Management System ---\n",
      "1. Add Student\n",
      "2. View Students\n",
      "3. Update Student\n",
      "4. Delete Student\n",
      "5. Exit\n"
     ]
    },
    {
     "name": "stdin",
     "output_type": "stream",
     "text": [
      "Enter choice:  3\n",
      "Enter student ID to update:  501\n",
      "Enter new name:  sandeep\n",
      "Enter new age:  20\n",
      "Enter new grade:  8.7\n"
     ]
    },
    {
     "name": "stdout",
     "output_type": "stream",
     "text": [
      "Student updated successfully.\n",
      "\n",
      "--- Student Management System ---\n",
      "1. Add Student\n",
      "2. View Students\n",
      "3. Update Student\n",
      "4. Delete Student\n",
      "5. Exit\n"
     ]
    },
    {
     "name": "stdin",
     "output_type": "stream",
     "text": [
      "Enter choice:  4\n",
      "Enter student ID to delete:  501\n"
     ]
    },
    {
     "name": "stdout",
     "output_type": "stream",
     "text": [
      "Student deleted.\n",
      "\n",
      "--- Student Management System ---\n",
      "1. Add Student\n",
      "2. View Students\n",
      "3. Update Student\n",
      "4. Delete Student\n",
      "5. Exit\n"
     ]
    },
    {
     "name": "stdin",
     "output_type": "stream",
     "text": [
      "Enter choice:  5\n"
     ]
    },
    {
     "name": "stdout",
     "output_type": "stream",
     "text": [
      "Exiting...\n"
     ]
    }
   ],
   "source": [
    "import json\n",
    "import os\n",
    "\n",
    "DATA_FILE = \"students.json\"\n",
    "\n",
    "# Load data from file\n",
    "def load_data():\n",
    "    if os.path.exists(DATA_FILE):\n",
    "        with open(DATA_FILE, \"r\") as f:\n",
    "            return json.load(f)\n",
    "    return {}\n",
    "\n",
    "# Save data to file\n",
    "def save_data(data):\n",
    "    with open(DATA_FILE, \"w\") as f:\n",
    "        json.dump(data, f, indent=4)\n",
    "\n",
    "# Add a new student\n",
    "def add_student(data):\n",
    "    student_id = input(\"Enter student ID: \")\n",
    "    if student_id in data:\n",
    "        print(\"Student ID already exists.\")\n",
    "        return\n",
    "    name = input(\"Enter student name: \")\n",
    "    age = input(\"Enter student age: \")\n",
    "    grade = input(\"Enter student grade: \")\n",
    "    data[student_id] = {\"name\": name, \"age\": age, \"grade\": grade}\n",
    "    save_data(data)\n",
    "    print(\"Student added successfully.\")\n",
    "\n",
    "# View all students\n",
    "def view_students(data):\n",
    "    if not data:\n",
    "        print(\"No student records found.\")\n",
    "        return\n",
    "    for sid, info in data.items():\n",
    "        print(f\"ID: {sid} | Name: {info['name']} | Age: {info['age']} | Grade: {info['grade']}\")\n",
    "\n",
    "# Update student record\n",
    "def update_student(data):\n",
    "    student_id = input(\"Enter student ID to update: \")\n",
    "    if student_id not in data:\n",
    "        print(\"Student not found.\")\n",
    "        return\n",
    "    name = input(\"Enter new name: \")\n",
    "    age = input(\"Enter new age: \")\n",
    "    grade = input(\"Enter new grade: \")\n",
    "    data[student_id] = {\"name\": name, \"age\": age, \"grade\": grade}\n",
    "    save_data(data)\n",
    "    print(\"Student updated successfully.\")\n",
    "\n",
    "# Delete student\n",
    "def delete_student(data):\n",
    "    student_id = input(\"Enter student ID to delete: \")\n",
    "    if student_id in data:\n",
    "        del data[student_id]\n",
    "        save_data(data)\n",
    "        print(\"Student deleted.\")\n",
    "    else:\n",
    "        print(\"Student not found.\")\n",
    "\n",
    "# Menu\n",
    "def main():\n",
    "    data = load_data()\n",
    "    while True:\n",
    "        print(\"\\n--- Student Management System ---\")\n",
    "        print(\"1. Add Student\")\n",
    "        print(\"2. View Students\")\n",
    "        print(\"3. Update Student\")\n",
    "        print(\"4. Delete Student\")\n",
    "        print(\"5. Exit\")\n",
    "        choice = input(\"Enter choice: \")\n",
    "\n",
    "        if choice == '1':\n",
    "            add_student(data)\n",
    "        elif choice == '2':\n",
    "            view_students(data)\n",
    "        elif choice == '3':\n",
    "            update_student(data)\n",
    "        elif choice == '4':\n",
    "            delete_student(data)\n",
    "        elif choice == '5':\n",
    "            print(\"Exiting...\")\n",
    "            break\n",
    "        else:\n",
    "            print(\"Invalid choice. Try again.\")\n",
    "\n",
    "if __name__ == \"__main__\":\n",
    "    main()\n"
   ]
  },
  {
   "cell_type": "code",
   "execution_count": null,
   "id": "cc8142be-1d95-425b-b2b8-02fde01a63a8",
   "metadata": {},
   "outputs": [],
   "source": []
  }
 ],
 "metadata": {
  "kernelspec": {
   "display_name": "Python 3 (ipykernel)",
   "language": "python",
   "name": "python3"
  },
  "language_info": {
   "codemirror_mode": {
    "name": "ipython",
    "version": 3
   },
   "file_extension": ".py",
   "mimetype": "text/x-python",
   "name": "python",
   "nbconvert_exporter": "python",
   "pygments_lexer": "ipython3",
   "version": "3.12.7"
  }
 },
 "nbformat": 4,
 "nbformat_minor": 5
}
